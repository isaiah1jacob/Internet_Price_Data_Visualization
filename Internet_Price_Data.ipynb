{
  "nbformat": 4,
  "nbformat_minor": 0,
  "metadata": {
    "colab": {
      "name": "Internet_Price_Data.ipynb",
      "private_outputs": true,
      "provenance": []
    },
    "kernelspec": {
      "name": "python3",
      "display_name": "Python 3"
    },
    "language_info": {
      "name": "python"
    }
  },
  "cells": [
    {
      "cell_type": "code",
      "metadata": {
        "id": "EJaXsF_83vNz"
      },
      "source": [
        "# This Python 3 environment comes with many helpful analytics libraries installed\n",
        "# It is defined by the kaggle/python Docker image: https://github.com/kaggle/docker-python\n",
        "# For example, here's several helpful packages to load\n",
        "\n",
        "import numpy as np # linear algebra\n",
        "import pandas as pd # data processing, CSV file I/O (e.g. pd.read_csv)\n",
        "\n",
        "# Input data files are available in the read-only \"../input/\" directory\n",
        "# For example, running this (by clicking run or pressing Shift+Enter) will list all files under the input directory\n",
        "\n",
        "import os\n",
        "for dirname, _, filenames in os.walk('/kaggle/input'):\n",
        "    for filename in filenames:\n",
        "        print(os.path.join(dirname, filename))\n",
        "\n",
        "# You can write up to 20GB to the current directory (/kaggle/working/) that gets preserved as output when you create a version using \"Save & Run All\" \n",
        "# You can also write temporary files to /kaggle/temp/, but they won't be saved outside of the current session"
      ],
      "execution_count": null,
      "outputs": []
    },
    {
      "cell_type": "markdown",
      "metadata": {
        "id": "YPxf9pSaCqGm"
      },
      "source": [
        "#Import related libraries\n",
        "\n"
      ]
    },
    {
      "cell_type": "code",
      "metadata": {
        "id": "BAtVJHK7Ct3_"
      },
      "source": [
        "import numpy as np\n",
        "import pandas as pd\n",
        "import plotly.express as px"
      ],
      "execution_count": null,
      "outputs": []
    },
    {
      "cell_type": "markdown",
      "metadata": {
        "id": "qTdLOjyLCxf9"
      },
      "source": [
        "#Load data\n",
        "\n"
      ]
    },
    {
      "cell_type": "code",
      "metadata": {
        "id": "qesuJm6eCyrM"
      },
      "source": [
        "df=pd.read_csv('cities_internet_prices.19-10-2021.csv')"
      ],
      "execution_count": null,
      "outputs": []
    },
    {
      "cell_type": "markdown",
      "metadata": {
        "id": "28zTC1c3DBks"
      },
      "source": [
        "#Show the first five rows of data\n",
        "\n"
      ]
    },
    {
      "cell_type": "code",
      "metadata": {
        "id": "cZfqfO1tDC3c"
      },
      "source": [
        "df.head()\n"
      ],
      "execution_count": null,
      "outputs": []
    },
    {
      "cell_type": "code",
      "metadata": {
        "id": "6zJfU5uKDPNV"
      },
      "source": [
        "df.describe()"
      ],
      "execution_count": null,
      "outputs": []
    },
    {
      "cell_type": "markdown",
      "metadata": {
        "id": "-Qn4mvqNDVwV"
      },
      "source": [
        "#Information about data\n",
        "\n"
      ]
    },
    {
      "cell_type": "code",
      "metadata": {
        "id": "voRUooQvDWrk"
      },
      "source": [
        "df.info()\n"
      ],
      "execution_count": null,
      "outputs": []
    },
    {
      "cell_type": "markdown",
      "metadata": {
        "id": "zSNfyBCsD468"
      },
      "source": [
        "#Check the null values\n",
        "\n"
      ]
    },
    {
      "cell_type": "code",
      "metadata": {
        "id": "Vf07yYU1D6HE"
      },
      "source": [
        "df.isnull().sum()\n"
      ],
      "execution_count": null,
      "outputs": []
    },
    {
      "cell_type": "code",
      "metadata": {
        "id": "wMdDzpJgEBGF"
      },
      "source": [
        "df.columns = ['City','Region','Country','InternetPrice']\n",
        "df.columns"
      ],
      "execution_count": null,
      "outputs": []
    },
    {
      "cell_type": "code",
      "metadata": {
        "id": "rGEX0Xk_EGVs"
      },
      "source": [
        "df['Region'] = df['Region'].apply(lambda x : x.replace('\"',''))\n",
        "df['Country'] = df['Country'].apply(lambda x : x.replace('\"',''))\n",
        "df.head()"
      ],
      "execution_count": null,
      "outputs": []
    },
    {
      "cell_type": "code",
      "metadata": {
        "id": "tiw3IKSiEPv1"
      },
      "source": [
        "df['InternetPrice'] = round(df['InternetPrice'], ndigits=2)\n",
        "df['InternetPrice']"
      ],
      "execution_count": null,
      "outputs": []
    },
    {
      "cell_type": "markdown",
      "metadata": {
        "id": "mmZQSMSrESzM"
      },
      "source": [
        "#Data Visualization\n",
        "\n"
      ]
    },
    {
      "cell_type": "code",
      "metadata": {
        "id": "2wLNWIpoET8c"
      },
      "source": [
        "fig = px.histogram(df['InternetPrice'],color_discrete_sequence = ['MediumPurple'])\n",
        "\n",
        "fig.update_layout(title = 'The distribution of Internet Price',\n",
        "                  title_x = 0.5,\n",
        "                  title_font = dict(size = 18, color = 'DarkSlateBlue'))\n",
        "\n",
        "fig.show()"
      ],
      "execution_count": null,
      "outputs": []
    },
    {
      "cell_type": "code",
      "metadata": {
        "id": "rSfGiwhAEjVr"
      },
      "source": [
        "countryaver20 = df.groupby(\"Country\")['InternetPrice'].mean().sort_values(ascending = False).reset_index().head(20)\n",
        "countryaver20['InternetPrice'] = round(countryaver20['InternetPrice'], ndigits=2)\n",
        "\n",
        "fig = px.bar(countryaver20, \n",
        "             x = 'Country',\n",
        "             y = 'InternetPrice',\n",
        "             color = 'InternetPrice',\n",
        "             color_continuous_scale = 'plasma')    \n",
        "\n",
        "fig.update_layout(title = 'Top 20 Countries with the highest average internet price',\n",
        "                  title_x = 0.5,\n",
        "                  title_font = dict(size = 18, color = 'DarkSlateBlue'),\n",
        "                  xaxis = dict(tickangle = 45))\n",
        "fig.show()"
      ],
      "execution_count": null,
      "outputs": []
    },
    {
      "cell_type": "code",
      "metadata": {
        "id": "QeVawPgKEqeM"
      },
      "source": [
        "countryavert20 = df.groupby(\"Country\")['InternetPrice'].mean().sort_values(ascending = False).reset_index().tail(20)\n",
        "countryavert20['InternetPrice'] = round(countryavert20['InternetPrice'], ndigits=2)\n",
        "\n",
        "fig = px.bar(countryavert20, \n",
        "             x = 'Country',\n",
        "             y = 'InternetPrice',\n",
        "             color = 'InternetPrice',\n",
        "             color_continuous_scale = 'plasma')    \n",
        "\n",
        "fig.update_layout(title = '20 Countries with the lowest average internet price',\n",
        "                  title_x = 0.5,\n",
        "                  title_font = dict(size = 18, color = 'DarkSlateBlue'),\n",
        "                  xaxis = dict(tickangle = 45))\n",
        "fig.show()"
      ],
      "execution_count": null,
      "outputs": []
    },
    {
      "cell_type": "code",
      "metadata": {
        "id": "g_V5_ldTExOb"
      },
      "source": [
        "countryaver = df.groupby(\"Country\")['InternetPrice'].mean().sort_values(ascending = False).reset_index()\n",
        "countryaver['InternetPrice'] = round(countryaver['InternetPrice'], ndigits=2)\n",
        "\n",
        "fig = px.choropleth(countryaver,\n",
        "                    locations = 'Country',\n",
        "                    locationmode = 'country names',\n",
        "                    color = 'InternetPrice',\n",
        "                    hover_name = 'Country',\n",
        "                    color_continuous_scale = 'plasma',\n",
        "                    animation_frame = 'Country')\n",
        "\n",
        "fig.update_layout(title = 'World Countries - Internet Price',\n",
        "                  title_x = 0.5,\n",
        "                  title_font = dict(size = 18, color = 'DarkSlateBlue'),\n",
        "                  geo = dict(showframe = False,\n",
        "                             showcoastlines = False,\n",
        "                             projection_type = 'equirectangular'))\n",
        "\n",
        "fig.show()"
      ],
      "execution_count": null,
      "outputs": []
    },
    {
      "cell_type": "code",
      "metadata": {
        "id": "-hZw7Xu3E5xc"
      },
      "source": [
        "city20 = df.sort_values(\"InternetPrice\", ascending = False).reset_index().head(20)\n",
        "\n",
        "fig = px.bar(city20, \n",
        "             x = 'City',\n",
        "             y = 'InternetPrice',\n",
        "             color = 'InternetPrice',\n",
        "             color_continuous_scale = 'sunset')\n",
        "\n",
        "fig.update_layout(title = 'Top 20 Cities with the highest average internet price',\n",
        "                  title_x = 0.5,\n",
        "                  title_font = dict(size = 18, color = 'DarkSlateBlue'),\n",
        "                  xaxis = dict(tickangle = 45))\n",
        "fig.show()"
      ],
      "execution_count": null,
      "outputs": []
    },
    {
      "cell_type": "code",
      "metadata": {
        "id": "-rALUhw-FBMc"
      },
      "source": [
        "city20 = df.sort_values(\"InternetPrice\", ascending = False).reset_index().tail(20)\n",
        "\n",
        "fig = px.bar(city20, \n",
        "             x = 'City',\n",
        "             y = 'InternetPrice',\n",
        "             color = 'InternetPrice',\n",
        "             color_continuous_scale = 'sunset')\n",
        "\n",
        "fig.update_layout(title = '20 Cities with the lowest average internet price',\n",
        "                  title_x = 0.5,\n",
        "                  title_font = dict(size = 18, color = 'DarkSlateBlue'),\n",
        "                  xaxis = dict(tickangle = 45))\n",
        "\n",
        "fig.show()"
      ],
      "execution_count": null,
      "outputs": []
    }
  ]
}